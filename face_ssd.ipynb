{
 "cells": [
  {
   "cell_type": "code",
   "execution_count": 4,
   "id": "12b41a8a",
   "metadata": {
    "is_executing": true
   },
   "outputs": [],
   "source": [
    "import cv2\n",
    "import dlib\n",
    "import numpy as np\n",
    "\n",
    "# Load the pre-trained model for face detection from dlib\n",
    "detector = dlib.get_frontal_face_detector()\n",
    "\n",
    "# Load the pre-trained MobileNetV2-based SSD model for face detection from OpenCV\n",
    "net = cv2.dnn.readNetFromCaffe(\n",
    "    \"deploy.prototxt\",\n",
    "    \"res10_300x300_ssd_iter_140000.caffemodel\"\n",
    ")\n",
    "\n",
    "# Open a connection to the webcam (0 represents the default camera)\n",
    "cap = cv2.VideoCapture(0)\n",
    "\n",
    "while True:\n",
    "    # Capture frame-by-frame from the webcam\n",
    "    ret, frame = cap.read()\n",
    "\n",
    "    # Resize the frame to a fixed width for better performance\n",
    "    width = 800\n",
    "    height = int(frame.shape[0] * (width / frame.shape[1]))\n",
    "    resized_frame = cv2.resize(frame, (width, height))\n",
    "\n",
    "    # Convert the frame to grayscale (for dlib)\n",
    "    gray = cv2.cvtColor(resized_frame, cv2.COLOR_BGR2GRAY)\n",
    "\n",
    "    # Detect faces using dlib\n",
    "    faces_dlib = detector(gray)\n",
    "\n",
    "    # Detect faces using the SSD model\n",
    "    blob = cv2.dnn.blobFromImage(resized_frame, 1.0, (300, 300), (104, 177, 123))\n",
    "    net.setInput(blob)\n",
    "    detections = net.forward()\n",
    "\n",
    "    # Loop over the face detections and draw rectangles around the faces\n",
    "    for i in range(0, detections.shape[2]):\n",
    "        confidence = detections[0, 0, i, 2]\n",
    "\n",
    "        if confidence > 0.5:  # You can adjust the confidence threshold as needed\n",
    "            box = detections[0, 0, i, 3:7] * np.array([width, height, width, height])\n",
    "            (startX, startY, endX, endY) = box.astype(int)\n",
    "\n",
    "            # Draw the face rectangle using OpenCV\n",
    "            cv2.rectangle(resized_frame, (startX, startY), (endX, endY), (0, 255, 0), 2)\n",
    "\n",
    "    # Display the resulting frame with detected faces\n",
    "    cv2.imshow(\"Face Detection\", resized_frame)\n",
    "\n",
    "    # Break the loop if 'q' is pressed\n",
    "    if cv2.waitKey(1) & 0xFF == ord('q'):\n",
    "        break\n",
    "\n",
    "# Release the webcam and close all OpenCV windows\n",
    "cap.release()\n",
    "cv2.destroyAllWindows()\n"
   ]
  }
 ],
 "metadata": {
  "kernelspec": {
   "display_name": "Python 3 (ipykernel)",
   "language": "python",
   "name": "python3"
  },
  "language_info": {
   "codemirror_mode": {
    "name": "ipython",
    "version": 3
   },
   "file_extension": ".py",
   "mimetype": "text/x-python",
   "name": "python",
   "nbconvert_exporter": "python",
   "pygments_lexer": "ipython3",
   "version": "3.9.13"
  }
 },
 "nbformat": 4,
 "nbformat_minor": 5
}
